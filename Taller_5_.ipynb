{
  "nbformat": 4,
  "nbformat_minor": 0,
  "metadata": {
    "colab": {
      "provenance": [],
      "authorship_tag": "ABX9TyOPTFJPxxXDt2tVAtVDvxff",
      "include_colab_link": true
    },
    "kernelspec": {
      "name": "python3",
      "display_name": "Python 3"
    },
    "language_info": {
      "name": "python"
    }
  },
  "cells": [
    {
      "cell_type": "markdown",
      "metadata": {
        "id": "view-in-github",
        "colab_type": "text"
      },
      "source": [
        "<a href=\"https://colab.research.google.com/github/carlosgutierrez15/taller_5_cicloswhile_000502183_y_000495362/blob/main/Taller_5_.ipynb\" target=\"_parent\"><img src=\"https://colab.research.google.com/assets/colab-badge.svg\" alt=\"Open In Colab\"/></a>"
      ]
    },
    {
      "cell_type": "markdown",
      "source": [
        "### Taller 5: Clicos while and for\n",
        "\n",
        "Carlos Gutierrez - ID: 000502183\n",
        "Tomas Arteaga - ID: 000495\n",
        "\n",
        "Email: carlos.gutierrezg@upb.edu.co\n",
        "Email: tomas.arteaga@upb.edu.co"
      ],
      "metadata": {
        "id": "2xEJHfUQp1PF"
      }
    },
    {
      "cell_type": "code",
      "execution_count": 10,
      "metadata": {
        "colab": {
          "base_uri": "https://localhost:8080/"
        },
        "id": "Q_VI33EgiGM_",
        "outputId": "e50275c9-6952-4502-a3b8-3c8d8e96e35d"
      },
      "outputs": [
        {
          "name": "stdout",
          "output_type": "stream",
          "text": [
            "Ingresa un número: 5\n",
            "Ingresa un número: 2\n",
            "Elige una operación (suma, resta, multiplicacion, division): suma\n",
            "Resultado de operacion: 7.0\n",
            "ingresa 'salir' para salir, sino ingrese 'continuar' para seguir: continuar\n",
            "Ingresa un número: 5\n",
            "Ingresa un número: 2\n",
            "Elige una operación (suma, resta, multiplicacion, division): resta\n",
            "Resultado de operacion: 3.0\n",
            "ingresa 'salir' para salir, sino ingrese 'continuar' para seguir: continuar\n",
            "Ingresa un número: 5\n",
            "Ingresa un número: 2\n",
            "Elige una operación (suma, resta, multiplicacion, division): multiplicacion\n",
            "Resultado de operacion: 10.0\n",
            "ingresa 'salir' para salir, sino ingrese 'continuar' para seguir: continuar\n",
            "Ingresa un número: 5\n",
            "Ingresa un número: 2\n",
            "Elige una operación (suma, resta, multiplicacion, division): division\n",
            "Resultado de operacion: 2.5\n",
            "ingresa 'salir' para salir, sino ingrese 'continuar' para seguir: salir\n"
          ]
        }
      ],
      "source": [
        "while True:\n",
        "    num1 = float(input(\"Ingresa un número: \"))\n",
        "    num2 = float(input(\"Ingresa un número: \"))\n",
        "\n",
        "    operacion = input(\"Elige una operación (suma, resta, multiplicacion, division): \")\n",
        "\n",
        "    if operacion == \"suma\":\n",
        "        resultado = num1 + num2\n",
        "    elif operacion == \"resta\":\n",
        "        resultado = num1 - num2\n",
        "    elif operacion == \"multiplicacion\":\n",
        "        resultado = num1 * num2\n",
        "    elif operacion == \"division\":\n",
        "\n",
        "        if num2 != 0:\n",
        "            resultado = num1 / num2\n",
        "        else:\n",
        "            print(\"Error: No se puede dividir por cero\")\n",
        "    else:\n",
        "        print(\"Operación no válida. Inténtalo de nuevo \")\n",
        "\n",
        "    print(\"Resultado de operacion:\", resultado)\n",
        "\n",
        "    salir = input(\"ingresa 'salir' para salir, sino ingrese 'continuar' para seguir: \")\n",
        "    if salir == \"salir\":\n",
        "      break"
      ]
    },
    {
      "cell_type": "code",
      "source": [
        "num = int(input(\"Ingrese un número: \"))\n",
        "\n",
        "for i in range(num, 0, -1):\n",
        "    print(i)"
      ],
      "metadata": {
        "colab": {
          "base_uri": "https://localhost:8080/"
        },
        "id": "UAE9pvM1jdLS",
        "outputId": "d4e721c0-4e9e-4157-d941-f7cd9d9904de"
      },
      "execution_count": 15,
      "outputs": [
        {
          "output_type": "stream",
          "name": "stdout",
          "text": [
            "Ingrese un número: 5\n",
            "5\n",
            "4\n",
            "3\n",
            "2\n",
            "1\n"
          ]
        }
      ]
    },
    {
      "cell_type": "code",
      "source": [
        "n = int(input(\"Ingrese el valor máximo: \"))\n",
        "\n",
        "num1, num2 = 0, 1\n",
        "\n",
        "while num1 <= n:\n",
        "    print(num1)\n",
        "    num1, num2 = num2, num1 + num2\n"
      ],
      "metadata": {
        "colab": {
          "base_uri": "https://localhost:8080/"
        },
        "id": "WAUlEJk5nhDL",
        "outputId": "c1c8e6ac-1a87-4ddb-9a26-564d412d98e1"
      },
      "execution_count": 20,
      "outputs": [
        {
          "output_type": "stream",
          "name": "stdout",
          "text": [
            "Ingrese el valor máximo: 15\n",
            "0\n",
            "1\n",
            "1\n",
            "2\n",
            "3\n",
            "5\n",
            "8\n",
            "13\n"
          ]
        }
      ]
    },
    {
      "cell_type": "code",
      "source": [
        "num = int(input(\"Ingrese un número: \"))\n",
        "\n",
        "if num < 0:\n",
        "    print(\"El número es inválido\")\n",
        "else:\n",
        "    suma = 0\n",
        "\n",
        "    while num > 0:\n",
        "        digito = num % 10\n",
        "        suma += digito\n",
        "        num //= 10\n",
        "\n",
        "    print(\"La suma es:\", suma)"
      ],
      "metadata": {
        "colab": {
          "base_uri": "https://localhost:8080/"
        },
        "id": "5tUekuLSoeiF",
        "outputId": "f5be7e18-dbb7-4032-c0e0-2e6f8a41cfe6"
      },
      "execution_count": 22,
      "outputs": [
        {
          "output_type": "stream",
          "name": "stdout",
          "text": [
            "Ingrese un número: 1\n",
            "La suma es: 1\n"
          ]
        }
      ]
    }
  ]
}