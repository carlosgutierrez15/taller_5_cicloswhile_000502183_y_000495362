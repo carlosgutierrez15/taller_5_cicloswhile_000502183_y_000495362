{
  "nbformat": 4,
  "nbformat_minor": 0,
  "metadata": {
    "colab": {
      "provenance": [],
      "include_colab_link": true
    },
    "kernelspec": {
      "name": "python3",
      "display_name": "Python 3"
    },
    "language_info": {
      "name": "python"
    }
  },
  "cells": [
    {
      "cell_type": "markdown",
      "metadata": {
        "id": "view-in-github",
        "colab_type": "text"
      },
      "source": [
        "<a href=\"https://colab.research.google.com/github/carlosgutierrez15/taller_5_cicloswhile_000502183_y_000495362/blob/main/Taller_5_.ipynb\" target=\"_parent\"><img src=\"https://colab.research.google.com/assets/colab-badge.svg\" alt=\"Open In Colab\"/></a>"
      ]
    },
    {
      "cell_type": "markdown",
      "source": [
        "### Taller 5: Clicos while and for\n",
        "\n",
        "Carlos Gutierrez - ID: 000502183\n",
        "Tomas Arteaga - ID: 000495362\n",
        "\n",
        "Email: carlos.gutierrezg@upb.edu.co\n",
        "Email: tomas.arteaga@upb.edu.co"
      ],
      "metadata": {
        "id": "2xEJHfUQp1PF"
      }
    },
    {
      "cell_type": "code",
      "source": [
        "num = int(input('Ingrese un número entero positivo: '))\n",
        "i = 1\n",
        "\n",
        "while i < num:\n",
        "    print(i)\n",
        "    i += 1"
      ],
      "metadata": {
        "id": "JNJNBF8PXoUA",
        "outputId": "259c85a3-41fa-4c73-9f58-ad0b951f08f8",
        "colab": {
          "base_uri": "https://localhost:8080/"
        }
      },
      "execution_count": 6,
      "outputs": [
        {
          "output_type": "stream",
          "name": "stdout",
          "text": [
            "Ingrese un número entero positivo: 10\n",
            "1\n",
            "2\n",
            "3\n",
            "4\n",
            "5\n",
            "6\n",
            "7\n",
            "8\n",
            "9\n"
          ]
        }
      ]
    },
    {
      "cell_type": "code",
      "source": [
        "cont = 0\n",
        "\n",
        "for num in range(1, 101):\n",
        "    if num % 2 == 0:\n",
        "        cont += num\n",
        "\n",
        "print('La suma de los números pares del 1 al 100 es:', cont)"
      ],
      "metadata": {
        "id": "JCglODR8XpgP",
        "outputId": "866993d0-b3d8-4415-f723-b9cb8ded702b",
        "colab": {
          "base_uri": "https://localhost:8080/"
        }
      },
      "execution_count": null,
      "outputs": [
        {
          "output_type": "stream",
          "name": "stdout",
          "text": [
            "La suma de los números pares del 1 al 100 es: 2550\n"
          ]
        }
      ]
    },
    {
      "cell_type": "code",
      "source": [
        "n = int(input('ingrese un numero para la serie = '))\n",
        "\n",
        "for i in range(1, n+1):\n",
        "    for j in range(1, i+1):\n",
        "        print(j, end=\"\")\n",
        "    print()"
      ],
      "metadata": {
        "id": "bARQESAhXpri",
        "outputId": "37c823f7-f577-4388-c3cb-1ab12b0463c9",
        "colab": {
          "base_uri": "https://localhost:8080/"
        }
      },
      "execution_count": null,
      "outputs": [
        {
          "output_type": "stream",
          "name": "stdout",
          "text": [
            "ingrese un numero para la serie = 10\n",
            "1\n",
            "12\n",
            "123\n",
            "1234\n",
            "12345\n",
            "123456\n",
            "1234567\n",
            "12345678\n",
            "123456789\n",
            "12345678910\n"
          ]
        }
      ]
    },
    {
      "cell_type": "code",
      "source": [
        "num = int(input(\"Ingrese un número entero positivo: \"))\n",
        "\n",
        "if num <= 1:\n",
        "    print(\"El número no es primo: \")\n",
        "else:\n",
        "    numprimo = True\n",
        "    divisor = 2\n",
        "\n",
        "    while divisor * divisor <= num:\n",
        "        if num % divisor == 0:\n",
        "            numprimo = False\n",
        "            break\n",
        "        divisor += 1\n",
        "\n",
        "    if numprimo:\n",
        "        print(\"El número es primo\")\n",
        "    else:\n",
        "        print(\"El número no es primo\")"
      ],
      "metadata": {
        "id": "j85hmsObXp1S",
        "outputId": "72f4eb53-805d-4147-817b-54a18b918023",
        "colab": {
          "base_uri": "https://localhost:8080/"
        }
      },
      "execution_count": null,
      "outputs": [
        {
          "output_type": "stream",
          "name": "stdout",
          "text": [
            "Ingrese un número entero positivo: 2\n",
            "El número es primo\n"
          ]
        }
      ]
    },
    {
      "cell_type": "code",
      "execution_count": null,
      "metadata": {
        "colab": {
          "base_uri": "https://localhost:8080/"
        },
        "id": "Q_VI33EgiGM_",
        "outputId": "bf410cb8-66e5-464c-a9fd-75b8658a6e98"
      },
      "outputs": [
        {
          "name": "stdout",
          "output_type": "stream",
          "text": [
            "Ingresa un número: 5\n",
            "Ingresa un número: 5\n",
            "Elige una operación (suma, resta, multiplicacion, division): suma\n",
            "Resultado de operacion: 10.0\n",
            "ingresa 'salir' para salir, sino ingrese 'continuar' para seguir: continuar\n",
            "Ingresa un número: 3\n",
            "Ingresa un número: 4\n",
            "Elige una operación (suma, resta, multiplicacion, division): resta\n",
            "Resultado de operacion: -1.0\n",
            "ingresa 'salir' para salir, sino ingrese 'continuar' para seguir: continuar\n",
            "Ingresa un número: 6\n",
            "Ingresa un número: 7\n",
            "Elige una operación (suma, resta, multiplicacion, division): multiplicacion\n",
            "Resultado de operacion: 42.0\n",
            "ingresa 'salir' para salir, sino ingrese 'continuar' para seguir: continuar\n",
            "Ingresa un número: 1\n",
            "Ingresa un número: 2\n",
            "Elige una operación (suma, resta, multiplicacion, division): division\n",
            "Resultado de operacion: 0.5\n",
            "ingresa 'salir' para salir, sino ingrese 'continuar' para seguir: salir\n"
          ]
        }
      ],
      "source": [
        "while True:\n",
        "    num1 = float(input(\"Ingresa un número: \"))\n",
        "    num2 = float(input(\"Ingresa un número: \"))\n",
        "\n",
        "    operacion = input(\"Elige una operación (+, -, *, /): \")\n",
        "\n",
        "    if operacion == \"+\":\n",
        "        resultado = num1 + num2\n",
        "    elif operacion == \"-\":\n",
        "        resultado = num1 - num2\n",
        "    elif operacion == \"*\":\n",
        "        resultado = num1 * num2\n",
        "    elif operacion == \"/\":\n",
        "\n",
        "        if num2 != 0:\n",
        "            resultado = num1 / num2\n",
        "\n",
        "    print(\"Resultado de operacion:\", resultado)\n",
        "\n",
        "    salir = input(\"ingresa 'salir' para salir, sino ingrese 'continuar' para seguir: \")\n",
        "    if salir == \"salir\":\n",
        "      break"
      ]
    },
    {
      "cell_type": "code",
      "source": [
        "num = int(input(\"Ingrese un número: \"))\n",
        "\n",
        "for i in range(num, 0, -1):\n",
        "    print(i)"
      ],
      "metadata": {
        "colab": {
          "base_uri": "https://localhost:8080/"
        },
        "id": "UAE9pvM1jdLS",
        "outputId": "d4e721c0-4e9e-4157-d941-f7cd9d9904de"
      },
      "execution_count": null,
      "outputs": [
        {
          "output_type": "stream",
          "name": "stdout",
          "text": [
            "Ingrese un número: 5\n",
            "5\n",
            "4\n",
            "3\n",
            "2\n",
            "1\n"
          ]
        }
      ]
    },
    {
      "cell_type": "code",
      "source": [
        "n = int(input(\"Ingrese el valor máximo: \"))\n",
        "\n",
        "num1, num2 = 0, 1\n",
        "\n",
        "while num1 <= n:\n",
        "    print(num1)\n",
        "    num1, num2 = num2, num1 + num2\n"
      ],
      "metadata": {
        "colab": {
          "base_uri": "https://localhost:8080/"
        },
        "id": "WAUlEJk5nhDL",
        "outputId": "c1c8e6ac-1a87-4ddb-9a26-564d412d98e1"
      },
      "execution_count": null,
      "outputs": [
        {
          "output_type": "stream",
          "name": "stdout",
          "text": [
            "Ingrese el valor máximo: 15\n",
            "0\n",
            "1\n",
            "1\n",
            "2\n",
            "3\n",
            "5\n",
            "8\n",
            "13\n"
          ]
        }
      ]
    },
    {
      "cell_type": "code",
      "source": [
        "num = int(input(\"Ingrese un número entero positivo: \"))\n",
        "\n",
        "if num < 0:\n",
        "    print(\"El número es inválido\")\n",
        "else:\n",
        "    suma = 0\n",
        "\n",
        "    while num > 0:\n",
        "        suma += num % 10\n",
        "        num //= 10\n",
        "\n",
        "    print(\"La suma es:\", suma)"
      ],
      "metadata": {
        "colab": {
          "base_uri": "https://localhost:8080/"
        },
        "id": "5tUekuLSoeiF",
        "outputId": "befc733e-de86-4e4d-9b98-28319af3bc79"
      },
      "execution_count": 4,
      "outputs": [
        {
          "output_type": "stream",
          "name": "stdout",
          "text": [
            "Ingrese un número: 12\n",
            "La suma es: 3\n"
          ]
        }
      ]
    },
    {
      "cell_type": "code",
      "source": [
        "num = int(input(\"Ingrese un número entero positivo: \"))\n",
        "\n",
        "if num < 0:\n",
        "    print(\"El número es inválido \")\n",
        "else:\n",
        "    suma = 0\n",
        "\n",
        "sumacuadrados = 0\n",
        "\n",
        "while num > 0:\n",
        "    sumadigitos = num % 10\n",
        "    sumacuadrados += sumadigitos ** 2\n",
        "    num //= 10\n",
        "\n",
        "print(\"La suma de los cuadrados es:\", sumacuadrados)"
      ],
      "metadata": {
        "id": "QMDqVy582MyU",
        "outputId": "e9b2b4f5-110f-48d1-bea9-6ca5be9e3c7e",
        "colab": {
          "base_uri": "https://localhost:8080/"
        }
      },
      "execution_count": 38,
      "outputs": [
        {
          "output_type": "stream",
          "name": "stdout",
          "text": [
            "Ingrese un número entero positivo: 12\n",
            "La suma de los cuadrados es: 5\n"
          ]
        }
      ]
    }
  ]
}